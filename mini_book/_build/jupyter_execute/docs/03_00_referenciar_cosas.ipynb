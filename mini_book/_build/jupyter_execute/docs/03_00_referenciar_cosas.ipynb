{
 "cells": [
  {
   "cell_type": "markdown",
   "id": "d08f4a34",
   "metadata": {},
   "source": [
    "> {sub-ref}`today` | {sub-ref}`wordcount-words` words | {sub-ref}`wordcount-minutes` min read\n",
    "\n",
    "# Referenciar cosas\n",
    "\n",
    "\n",
    "\n",
    "Referencia a una sección usando el título: {doc}`./01_00_Code_Blocks_y_ecuaciones`. Se usa el **nombre del fichero**\n",
    "\n",
    "    {doc}`./01_00_sec_Code_Blocks_y_Ecuaciones`\n",
    "\n",
    "Referenciamos una sección {numref}`sec_Code_Blocks_y_Ecuaciones`. Se usa una **label**\n",
    "    \n",
    "    `(sec_Code_Blocks_y_Ecuaciones)=`     \n",
    "    # Code Blocks y Ecuaciones \n",
    "    \n",
    "    {numref}`sec_Code_Blocks_y_Ecuaciones`.\n",
    "\n",
    "Referencias a ecuaciones: {eq}`my_other_label`  \n",
    "\n",
    "    {eq}`my_other_label`\n",
    "\n",
    "Referencias a figuras: {numref}`fig-target`\n",
    "\n",
    "    {numref}`fig-target`\n",
    "\n",
    "Referencias a bloques de código {numref}`label_codeblock` (deben de tener tanto :caption: como :name:)\n",
    "\n",
    "    {numref}`label_codeblock`\n",
    "\n",
    "\n",
    "## Editar nombre en numref:\n",
    "\n",
    "Podemos editar el nombre que apare en las numref antes del número. Por ejemplo, podemos pasar de {numref}`fig-target` a {numref}`Figura %s <fig-target>`.\n",
    "\n",
    "    {numref}`Fig. %s <fig-target>`\n",
    "\n",
    "Otro ejemplo: {numref}`sec. %s <sec_Code_Blocks_y_Ecuaciones>` en vez de {numref}`sec_Code_Blocks_y_Ecuaciones`.\n",
    "\n",
    "    {numref}`sec. %s <sec_Code_Blocks_y_Ecuaciones>`\n",
    "\n",
    "\n",
    "## Referencias bibliográficas\n",
    "\n",
    "Cita: ``` {cite}`guttag2016introduction` ```: {cite}`guttag2016introduction`\n",
    "\n",
    "\n",
    "\n",
    "\n",
    "\n",
    "\n",
    "\n",
    "\n",
    "```{bibliography} ../_bibliography/references.bib\n",
    ":style: plain \n",
    "```"
   ]
  }
 ],
 "metadata": {
  "jupytext": {
   "text_representation": {
    "extension": ".md",
    "format_name": "myst",
    "format_version": 0.13,
    "jupytext_version": "1.15.2"
   }
  },
  "kernelspec": {
   "display_name": "Python 3 (ipykernel)",
   "language": "python",
   "name": "python3"
  },
  "source_map": [
   12
  ]
 },
 "nbformat": 4,
 "nbformat_minor": 5
}