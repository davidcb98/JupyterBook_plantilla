{
 "cells": [
  {
   "cell_type": "markdown",
   "id": "3a4fa485",
   "metadata": {},
   "source": [
    "# Referencias\n",
    "\n",
    "\n",
    "\n",
    "Referencia a una sección usando el título: {doc}`./01_sec_Code_Blocks_y_Ecuaciones`. Se usa el **nombre del fichero**\n",
    "\n",
    "    {doc}`./01_sec_Code_Blocks_y_Ecuaciones`\n",
    "\n",
    "Referenciamos una sección {numref}`sec_Code_Blocks_y_Ecuaciones`. Se usa una **label**\n",
    "    \n",
    "    `(sec_Code_Blocks_y_Ecuaciones)=`     \n",
    "    # Code Blocks y Ecuaciones \n",
    "    \n",
    "    {numref}`sec_Code_Blocks_y_Ecuaciones`.\n",
    "\n",
    "Referencias a ecuaciones: {eq}`my_other_label`  \n",
    "\n",
    "    {eq}`my_other_label`\n",
    "\n",
    "Referencias a figuras: {numref}`fig-target`\n",
    "\n",
    "    {numref}`fig-target`\n",
    "\n",
    "Referencias a bloques de código {numref}`label_codeblock` (deben de tener tanto :caption: como :name:)\n",
    "\n",
    "    {numref}`label_codeblock`\n",
    "\n",
    "\n",
    "## Editar nombre en numref:\n",
    "\n",
    "Podemos editar el nombre que apare en las numref antes del número. Por ejemplo, podemos pasar de {numref}`fig-target` a {numref}`Figura %s <fig-target>`.\n",
    "\n",
    "    {numref}`Fig. %s <fig-target>`\n",
    "\n",
    "Otro ejemplo: {numref}`sec. %s <sec_Code_Blocks_y_Ecuaciones>` en vez de {numref}`sec_Code_Blocks_y_Ecuaciones`.\n",
    "\n",
    "    {numref}`sec. %s <sec_Code_Blocks_y_Ecuaciones>`"
   ]
  }
 ],
 "metadata": {
  "jupytext": {
   "text_representation": {
    "extension": ".md",
    "format_name": "myst",
    "format_version": 0.13,
    "jupytext_version": "1.15.2"
   }
  },
  "kernelspec": {
   "display_name": "Python 3 (ipykernel)",
   "language": "python",
   "name": "python3"
  },
  "source_map": [
   12
  ]
 },
 "nbformat": 4,
 "nbformat_minor": 5
}