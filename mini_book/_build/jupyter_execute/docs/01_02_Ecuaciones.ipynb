{
 "cells": [
  {
   "cell_type": "markdown",
   "id": "57428d31",
   "metadata": {},
   "source": [
    "> {sub-ref}`today` | {sub-ref}`wordcount-words` words | {sub-ref}`wordcount-minutes` min read\n",
    "\n",
    "\n",
    "# Ecuaciones\n",
    "\n",
    "\\begin{equation} \n",
    "    f(x) = x^2 \n",
    "\\end{equation} \n",
    "\n",
    "$$\n",
    "    w_{t+1} = (1 + r_{t+1}) s(w_t) + y_{t+1}\n",
    "$$ (my_other_label)\n",
    "\n",
    "A link to a dollar math block: {eq}`my_other_label`\n",
    "\n",
    "```{math} \n",
    "    :label: euler\n",
    "        e^{i\\pi} + 1 = 0\n",
    "```\n",
    "\n",
    "Refereciemos la ec. de euler {eq}`euler`.\n",
    "\n",
    "```{math}\n",
    "    :label: label_align\n",
    "        \\begin{align}\n",
    "        y    & =  ax^2 + bx + c \\\\\n",
    "        f(x) & =  x^2 + 2xy + y^2 \n",
    "        \\end{align}\n",
    "```\n",
    "\n",
    "Refereciemos la ec. {eq}`label_align`.\n",
    "\n",
    "$$\n",
    "    \\begin{aligned}\n",
    "    y    & =  ax^2 + bx + c \\\\\n",
    "    f(x) & =  x^2 + 2xy + y^2 \n",
    "    \\end{aligned}\n",
    "$$ (label_align_dolar)\n",
    "\n",
    "Refereciemos la ec. {eq}`label_align_dolar`.\n",
    "\n",
    "```{math}\n",
    "    :label: label_1\n",
    "        (a + b)^2  &=  (a + b)(a + b) \\\\\n",
    "                   &=  a^2 + 2ab + b^2\n",
    "```\n",
    "Refereciemos la ec. {eq}`label_1`."
   ]
  }
 ],
 "metadata": {
  "jupytext": {
   "text_representation": {
    "extension": ".md",
    "format_name": "myst",
    "format_version": 0.13,
    "jupytext_version": "1.15.2"
   }
  },
  "kernelspec": {
   "display_name": "Python 3 (ipykernel)",
   "language": "python",
   "name": "python3"
  },
  "source_map": [
   12
  ]
 },
 "nbformat": 4,
 "nbformat_minor": 5
}