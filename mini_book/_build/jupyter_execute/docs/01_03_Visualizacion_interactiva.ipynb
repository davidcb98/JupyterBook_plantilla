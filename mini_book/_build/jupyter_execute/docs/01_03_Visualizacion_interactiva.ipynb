{
 "cells": [
  {
   "cell_type": "markdown",
   "id": "9054b328",
   "metadata": {},
   "source": [
    "> {sub-ref}`today` | {sub-ref}`wordcount-words` words | {sub-ref}`wordcount-minutes` min read\n",
    "\n",
    "\n",
    "# Visualización interactiva de datos\n",
    "\n",
    "Descarguemos unos datos para estas pruebas:"
   ]
  },
  {
   "cell_type": "code",
   "execution_count": null,
   "id": "3e61f87c",
   "metadata": {},
   "outputs": [],
   "source": [
    "import plotly.express as px\n",
    "data = px.data.iris()\n",
    "data.head()"
   ]
  },
  {
   "cell_type": "markdown",
   "id": "d70e826e",
   "metadata": {},
   "source": [
    "Las salidas interactivas funcionarán bajo el supuesto de que las salidas que producen tienen HTML autocontenido que funciona sin requerir dependencias externas para cargarse. Veamos unas cuantas formas de haces esto con unas librerías de python.\n",
    "\n",
    "## Altair\n",
    "\n",
    "Pueden verse [aquí](https://altair-viz.github.io/getting_started/installation.html#installation) las instrucciones para instalar Altair."
   ]
  },
  {
   "cell_type": "code",
   "execution_count": null,
   "id": "1d0e91f8",
   "metadata": {},
   "outputs": [],
   "source": [
    "import altair as alt\n",
    "alt.Chart(data=data).mark_point().encode(\n",
    "    x=\"sepal_width\",\n",
    "    y=\"sepal_length\",\n",
    "    color=\"species\",\n",
    "    size='sepal_length'\n",
    ")"
   ]
  },
  {
   "cell_type": "markdown",
   "id": "71c83288",
   "metadata": {},
   "source": [
    "## Plotly\n",
    "\n",
    "Puede verse [aquí](https://plotly.com/python/getting-started/#JupyterLab-Support-(Python-3.5+)) la documentación y como instalarlo.\n",
    "\n",
    "````{important} \n",
    "For these plots to show, it may be necessary to load require.js, in your _config.yml:\n",
    "```{code-block} yaml\n",
    "sphinx:\n",
    "  config:\n",
    "    html_js_files:\n",
    "    - https://cdnjs.cloudflare.com/ajax/libs/require.js/2.3.4/require.min.js\n",
    "```\n",
    "````\n",
    "\n",
    "```{important}\n",
    "Including plotly plots in a Jupyter Book page is currently not compatible with the dollarmath syntax extension (mathematical notation written between two “$” characters). If you are trying to include both plotly plots and mathematical notation within the same page, and finding that plotly plots are not being rendered, this may be the cause. Try removing all use of the dollarmath syntax within the page and rebuilding the book.\n",
    "```"
   ]
  },
  {
   "cell_type": "code",
   "execution_count": null,
   "id": "99cc8e95",
   "metadata": {},
   "outputs": [],
   "source": [
    "import plotly.io as pio\n",
    "import plotly.express as px\n",
    "import plotly.offline as py\n",
    "\n",
    "df = px.data.iris()\n",
    "fig = px.scatter(df, x=\"sepal_width\", y=\"sepal_length\", color=\"species\", size=\"sepal_length\")\n",
    "fig"
   ]
  },
  {
   "cell_type": "markdown",
   "id": "dda74368",
   "metadata": {},
   "source": [
    "## Bokeh\n",
    "\n",
    "Puede verse [aquí](https://docs.bokeh.org/en/latest/docs/first_steps.html) la documentación y como instalarlo"
   ]
  },
  {
   "cell_type": "code",
   "execution_count": null,
   "id": "1c13ca92",
   "metadata": {},
   "outputs": [],
   "source": [
    "from bokeh.plotting import figure, show, output_notebook\n",
    "output_notebook()\n",
    "\n",
    "p = figure()\n",
    "p.circle(data[\"sepal_width\"], data[\"sepal_length\"], fill_color=data[\"species\"], size=data[\"sepal_length\"])\n",
    "show(p)"
   ]
  },
  {
   "cell_type": "markdown",
   "id": "07aa6748",
   "metadata": {},
   "source": [
    "## ipywidgets"
   ]
  },
  {
   "cell_type": "code",
   "execution_count": null,
   "id": "5df87434",
   "metadata": {},
   "outputs": [],
   "source": [
    "import ipywidgets as widgets"
   ]
  },
  {
   "cell_type": "code",
   "execution_count": null,
   "id": "bcb7ea1d",
   "metadata": {},
   "outputs": [],
   "source": [
    "widgets.IntSlider(\n",
    "    value=7,\n",
    "    min=0,\n",
    "    max=10,\n",
    "    step=1,\n",
    "    description='Test:',\n",
    "    disabled=False,\n",
    "    continuous_update=False,\n",
    "    orientation='horizontal',\n",
    "    readout=True,\n",
    "    readout_format='d'\n",
    ")"
   ]
  },
  {
   "cell_type": "code",
   "execution_count": null,
   "id": "b49fb0c3",
   "metadata": {},
   "outputs": [],
   "source": [
    "tab_contents = ['P0', 'P1', 'P2', 'P3', 'P4']\n",
    "children = [widgets.Text(description=name) for name in tab_contents]\n",
    "tab = widgets.Tab()\n",
    "tab.children = children\n",
    "for ii in range(len(children)):\n",
    "    tab.set_title(ii, f\"tab_{ii}\")\n",
    "tab"
   ]
  },
  {
   "cell_type": "markdown",
   "id": "5b22acbb",
   "metadata": {},
   "source": [
    "Pueden verse muchos más widgets [aquí](https://ipywidgets.readthedocs.io/en/latest/examples/Widget%20List.html)"
   ]
  }
 ],
 "metadata": {
  "jupytext": {
   "text_representation": {
    "extension": ".md",
    "format_name": "myst",
    "format_version": 0.13,
    "jupytext_version": "1.15.2"
   }
  },
  "kernelspec": {
   "display_name": "Python 3 (ipykernel)",
   "language": "python",
   "name": "python3"
  },
  "source_map": [
   12,
   21,
   25,
   33,
   41,
   61,
   69,
   76,
   83,
   88,
   92,
   107,
   115
  ]
 },
 "nbformat": 4,
 "nbformat_minor": 5
}