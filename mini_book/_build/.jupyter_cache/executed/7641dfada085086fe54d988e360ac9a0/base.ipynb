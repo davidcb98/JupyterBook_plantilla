{
 "cells": [
  {
   "cell_type": "code",
   "execution_count": 1,
   "id": "e5ae8d5b",
   "metadata": {},
   "outputs": [
    {
     "ename": "SyntaxError",
     "evalue": "invalid syntax (1773644881.py, line 5)",
     "output_type": "error",
     "traceback": [
      "\u001b[0;36m  Cell \u001b[0;32mIn[1], line 5\u001b[0;36m\u001b[0m\n\u001b[0;31m    ```\u001b[0m\n\u001b[0m    ^\u001b[0m\n\u001b[0;31mSyntaxError\u001b[0m\u001b[0;31m:\u001b[0m invalid syntax\n"
     ]
    }
   ],
   "source": [
    "    from matplotlib import rcParams, cycler\n",
    "    import matplotlib.pyplot as plt\n",
    "    import numpy as np\n",
    "    plt.ion()\n",
    "    ```\n",
    "\n",
    "    ```{code-cell} ipython3\n",
    "    # Fixing random state for reproducibility\n",
    "    np.random.seed(19680801)\n",
    "\n",
    "    N = 10\n",
    "    data = [np.logspace(0, 1, 100) + np.random.randn(100) + ii for ii in range(N)]\n",
    "    data = np.array(data).T\n",
    "    cmap = plt.cm.coolwarm\n",
    "    rcParams['axes.prop_cycle'] = cycler(color=cmap(np.linspace(0, 1, N)))\n",
    "\n",
    "\n",
    "    from matplotlib.lines import Line2D\n",
    "    custom_lines = [Line2D([0], [0], color=cmap(0.), lw=4),\n",
    "                    Line2D([0], [0], color=cmap(.5), lw=4),\n",
    "                    Line2D([0], [0], color=cmap(1.), lw=4)]\n",
    "\n",
    "    fig, ax = plt.subplots(figsize=(10, 5))\n",
    "    lines = ax.plot(data)\n",
    "    ax.legend(custom_lines, ['Cold', 'Medium', 'Hot'])"
   ]
  },
  {
   "cell_type": "code",
   "execution_count": 2,
   "id": "530d87e3",
   "metadata": {},
   "outputs": [
    {
     "ename": "NameError",
     "evalue": "name 'val_a' is not defined",
     "output_type": "error",
     "traceback": [
      "\u001b[0;31m---------------------------------------------------------------------------\u001b[0m",
      "\u001b[0;31mNameError\u001b[0m                                 Traceback (most recent call last)",
      "Cell \u001b[0;32mIn[2], line 1\u001b[0m\n\u001b[0;32m----> 1\u001b[0m \u001b[38;5;28mprint\u001b[39m(\u001b[43mval_a\u001b[49m)\n",
      "\u001b[0;31mNameError\u001b[0m: name 'val_a' is not defined"
     ]
    }
   ],
   "source": [
    "    print(val_a)"
   ]
  },
  {
   "cell_type": "code",
   "execution_count": 3,
   "id": "7998883c",
   "metadata": {
    "class": "dropdown"
   },
   "outputs": [
    {
     "data": {
      "text/html": [
       "<style type=\"text/css\">\n",
       "#T_1e2a9_row0_col0, #T_1e2a9_row0_col1, #T_1e2a9_row0_col2, #T_1e2a9_row1_col0, #T_1e2a9_row1_col3, #T_1e2a9_row1_col4, #T_1e2a9_row2_col0, #T_1e2a9_row2_col2, #T_1e2a9_row2_col3, #T_1e2a9_row3_col0, #T_1e2a9_row3_col1, #T_1e2a9_row3_col2, #T_1e2a9_row3_col3, #T_1e2a9_row3_col4, #T_1e2a9_row4_col0, #T_1e2a9_row4_col1, #T_1e2a9_row4_col2, #T_1e2a9_row4_col3, #T_1e2a9_row4_col4, #T_1e2a9_row5_col0, #T_1e2a9_row5_col2, #T_1e2a9_row5_col3, #T_1e2a9_row6_col0, #T_1e2a9_row6_col1, #T_1e2a9_row6_col4, #T_1e2a9_row7_col0, #T_1e2a9_row7_col1, #T_1e2a9_row7_col2, #T_1e2a9_row7_col4, #T_1e2a9_row8_col0, #T_1e2a9_row9_col2, #T_1e2a9_row9_col4 {\n",
       "  color: black;\n",
       "}\n",
       "#T_1e2a9_row0_col3, #T_1e2a9_row0_col4, #T_1e2a9_row1_col1, #T_1e2a9_row1_col2, #T_1e2a9_row2_col1, #T_1e2a9_row5_col1, #T_1e2a9_row5_col4, #T_1e2a9_row6_col3, #T_1e2a9_row7_col3, #T_1e2a9_row8_col2, #T_1e2a9_row8_col4, #T_1e2a9_row9_col1, #T_1e2a9_row9_col3 {\n",
       "  color: red;\n",
       "}\n",
       "#T_1e2a9_row2_col4, #T_1e2a9_row6_col2, #T_1e2a9_row8_col1, #T_1e2a9_row8_col3, #T_1e2a9_row9_col0 {\n",
       "  color: black;\n",
       "  background-color: yellow;\n",
       "}\n",
       "</style>\n",
       "<table id=\"T_1e2a9\" style=\"font-size: 10px\">\n",
       "  <thead>\n",
       "    <tr>\n",
       "      <th class=\"blank level0\" >&nbsp;</th>\n",
       "      <th id=\"T_1e2a9_level0_col0\" class=\"col_heading level0 col0\" >A</th>\n",
       "      <th id=\"T_1e2a9_level0_col1\" class=\"col_heading level0 col1\" >B</th>\n",
       "      <th id=\"T_1e2a9_level0_col2\" class=\"col_heading level0 col2\" >C</th>\n",
       "      <th id=\"T_1e2a9_level0_col3\" class=\"col_heading level0 col3\" >D</th>\n",
       "      <th id=\"T_1e2a9_level0_col4\" class=\"col_heading level0 col4\" >E</th>\n",
       "    </tr>\n",
       "  </thead>\n",
       "  <tbody>\n",
       "    <tr>\n",
       "      <th id=\"T_1e2a9_level0_row0\" class=\"row_heading level0 row0\" >0</th>\n",
       "      <td id=\"T_1e2a9_row0_col0\" class=\"data row0 col0\" >1.000000</td>\n",
       "      <td id=\"T_1e2a9_row0_col1\" class=\"data row0 col1\" >1.329212</td>\n",
       "      <td id=\"T_1e2a9_row0_col2\" class=\"data row0 col2\" >nan</td>\n",
       "      <td id=\"T_1e2a9_row0_col3\" class=\"data row0 col3\" >-0.316280</td>\n",
       "      <td id=\"T_1e2a9_row0_col4\" class=\"data row0 col4\" >-0.990810</td>\n",
       "    </tr>\n",
       "    <tr>\n",
       "      <th id=\"T_1e2a9_level0_row1\" class=\"row_heading level0 row1\" >1</th>\n",
       "      <td id=\"T_1e2a9_row1_col0\" class=\"data row1 col0\" >2.000000</td>\n",
       "      <td id=\"T_1e2a9_row1_col1\" class=\"data row1 col1\" >-1.070816</td>\n",
       "      <td id=\"T_1e2a9_row1_col2\" class=\"data row1 col2\" >-1.438713</td>\n",
       "      <td id=\"T_1e2a9_row1_col3\" class=\"data row1 col3\" >0.564417</td>\n",
       "      <td id=\"T_1e2a9_row1_col4\" class=\"data row1 col4\" >0.295722</td>\n",
       "    </tr>\n",
       "    <tr>\n",
       "      <th id=\"T_1e2a9_level0_row2\" class=\"row_heading level0 row2\" >2</th>\n",
       "      <td id=\"T_1e2a9_row2_col0\" class=\"data row2 col0\" >3.000000</td>\n",
       "      <td id=\"T_1e2a9_row2_col1\" class=\"data row2 col1\" >-1.626404</td>\n",
       "      <td id=\"T_1e2a9_row2_col2\" class=\"data row2 col2\" >0.219565</td>\n",
       "      <td id=\"T_1e2a9_row2_col3\" class=\"data row2 col3\" >0.678805</td>\n",
       "      <td id=\"T_1e2a9_row2_col4\" class=\"data row2 col4\" >1.889273</td>\n",
       "    </tr>\n",
       "    <tr>\n",
       "      <th id=\"T_1e2a9_level0_row3\" class=\"row_heading level0 row3\" >3</th>\n",
       "      <td id=\"T_1e2a9_row3_col0\" class=\"data row3 col0\" >4.000000</td>\n",
       "      <td id=\"T_1e2a9_row3_col1\" class=\"data row3 col1\" >0.961538</td>\n",
       "      <td id=\"T_1e2a9_row3_col2\" class=\"data row3 col2\" >0.104011</td>\n",
       "      <td id=\"T_1e2a9_row3_col3\" class=\"data row3 col3\" >nan</td>\n",
       "      <td id=\"T_1e2a9_row3_col4\" class=\"data row3 col4\" >0.850229</td>\n",
       "    </tr>\n",
       "    <tr>\n",
       "      <th id=\"T_1e2a9_level0_row4\" class=\"row_heading level0 row4\" >4</th>\n",
       "      <td id=\"T_1e2a9_row4_col0\" class=\"data row4 col0\" >5.000000</td>\n",
       "      <td id=\"T_1e2a9_row4_col1\" class=\"data row4 col1\" >1.453425</td>\n",
       "      <td id=\"T_1e2a9_row4_col2\" class=\"data row4 col2\" >1.057737</td>\n",
       "      <td id=\"T_1e2a9_row4_col3\" class=\"data row4 col3\" >0.165562</td>\n",
       "      <td id=\"T_1e2a9_row4_col4\" class=\"data row4 col4\" >0.515018</td>\n",
       "    </tr>\n",
       "    <tr>\n",
       "      <th id=\"T_1e2a9_level0_row5\" class=\"row_heading level0 row5\" >5</th>\n",
       "      <td id=\"T_1e2a9_row5_col0\" class=\"data row5 col0\" >6.000000</td>\n",
       "      <td id=\"T_1e2a9_row5_col1\" class=\"data row5 col1\" >-1.336936</td>\n",
       "      <td id=\"T_1e2a9_row5_col2\" class=\"data row5 col2\" >0.562861</td>\n",
       "      <td id=\"T_1e2a9_row5_col3\" class=\"data row5 col3\" >1.392855</td>\n",
       "      <td id=\"T_1e2a9_row5_col4\" class=\"data row5 col4\" >-0.063328</td>\n",
       "    </tr>\n",
       "    <tr>\n",
       "      <th id=\"T_1e2a9_level0_row6\" class=\"row_heading level0 row6\" >6</th>\n",
       "      <td id=\"T_1e2a9_row6_col0\" class=\"data row6 col0\" >7.000000</td>\n",
       "      <td id=\"T_1e2a9_row6_col1\" class=\"data row6 col1\" >0.121668</td>\n",
       "      <td id=\"T_1e2a9_row6_col2\" class=\"data row6 col2\" >1.207603</td>\n",
       "      <td id=\"T_1e2a9_row6_col3\" class=\"data row6 col3\" >-0.002040</td>\n",
       "      <td id=\"T_1e2a9_row6_col4\" class=\"data row6 col4\" >1.627796</td>\n",
       "    </tr>\n",
       "    <tr>\n",
       "      <th id=\"T_1e2a9_level0_row7\" class=\"row_heading level0 row7\" >7</th>\n",
       "      <td id=\"T_1e2a9_row7_col0\" class=\"data row7 col0\" >8.000000</td>\n",
       "      <td id=\"T_1e2a9_row7_col1\" class=\"data row7 col1\" >0.354493</td>\n",
       "      <td id=\"T_1e2a9_row7_col2\" class=\"data row7 col2\" >1.037528</td>\n",
       "      <td id=\"T_1e2a9_row7_col3\" class=\"data row7 col3\" >-0.385684</td>\n",
       "      <td id=\"T_1e2a9_row7_col4\" class=\"data row7 col4\" >0.519818</td>\n",
       "    </tr>\n",
       "    <tr>\n",
       "      <th id=\"T_1e2a9_level0_row8\" class=\"row_heading level0 row8\" >8</th>\n",
       "      <td id=\"T_1e2a9_row8_col0\" class=\"data row8 col0\" >9.000000</td>\n",
       "      <td id=\"T_1e2a9_row8_col1\" class=\"data row8 col1\" >1.686583</td>\n",
       "      <td id=\"T_1e2a9_row8_col2\" class=\"data row8 col2\" >-1.325963</td>\n",
       "      <td id=\"T_1e2a9_row8_col3\" class=\"data row8 col3\" >1.428984</td>\n",
       "      <td id=\"T_1e2a9_row8_col4\" class=\"data row8 col4\" >-2.089354</td>\n",
       "    </tr>\n",
       "    <tr>\n",
       "      <th id=\"T_1e2a9_level0_row9\" class=\"row_heading level0 row9\" >9</th>\n",
       "      <td id=\"T_1e2a9_row9_col0\" class=\"data row9 col0\" >10.000000</td>\n",
       "      <td id=\"T_1e2a9_row9_col1\" class=\"data row9 col1\" >-0.129820</td>\n",
       "      <td id=\"T_1e2a9_row9_col2\" class=\"data row9 col2\" >0.631523</td>\n",
       "      <td id=\"T_1e2a9_row9_col3\" class=\"data row9 col3\" >-0.586538</td>\n",
       "      <td id=\"T_1e2a9_row9_col4\" class=\"data row9 col4\" >0.290720</td>\n",
       "    </tr>\n",
       "  </tbody>\n",
       "</table>\n"
      ],
      "text/plain": [
       "<pandas.io.formats.style.Styler at 0x7f197c294460>"
      ]
     },
     "execution_count": 3,
     "metadata": {},
     "output_type": "execute_result"
    }
   ],
   "source": [
    "    import numpy as np\n",
    "    import pandas as pd\n",
    "\n",
    "    np.random.seed(24)\n",
    "    df = pd.DataFrame({'A': np.linspace(1, 10, 10)})\n",
    "    df = pd.concat([df, pd.DataFrame(np.random.randn(10, 4), columns=list('BCDE'))],\n",
    "                axis=1)\n",
    "    df.iloc[3, 3] = np.nan\n",
    "    df.iloc[0, 2] = np.nan\n",
    "\n",
    "    def color_negative_red(val):\n",
    "        \"\"\"\n",
    "        Takes a scalar and returns a string with\n",
    "        the css property `'color: red'` for negative\n",
    "        strings, black otherwise.\n",
    "        \"\"\"\n",
    "        color = 'red' if val < 0 else 'black'\n",
    "        return 'color: %s' % color\n",
    "\n",
    "    def highlight_max(s):\n",
    "        '''\n",
    "        highlight the maximum in a Series yellow.\n",
    "        '''\n",
    "        is_max = s == s.max()\n",
    "        return ['background-color: yellow' if v else '' for v in is_max]\n",
    "\n",
    "    df.style.\\\n",
    "        applymap(color_negative_red).\\\n",
    "        apply(highlight_max).\\\n",
    "        set_table_attributes('style=\"font-size: 10px\"')"
   ]
  },
  {
   "cell_type": "code",
   "execution_count": 4,
   "id": "6231ebcc",
   "metadata": {
    "tags": [
     "output_scroll"
    ]
   },
   "outputs": [
    {
     "name": "stdout",
     "output_type": "stream",
     "text": [
      "this is output line 0\n",
      "this is output line 1\n",
      "this is output line 2\n",
      "this is output line 3\n",
      "this is output line 4\n",
      "this is output line 5\n",
      "this is output line 6\n",
      "this is output line 7\n",
      "this is output line 8\n",
      "this is output line 9\n",
      "this is output line 10\n",
      "this is output line 11\n",
      "this is output line 12\n",
      "this is output line 13\n",
      "this is output line 14\n",
      "this is output line 15\n",
      "this is output line 16\n",
      "this is output line 17\n",
      "this is output line 18\n",
      "this is output line 19\n",
      "this is output line 20\n",
      "this is output line 21\n",
      "this is output line 22\n",
      "this is output line 23\n",
      "this is output line 24\n",
      "this is output line 25\n",
      "this is output line 26\n",
      "this is output line 27\n",
      "this is output line 28\n",
      "this is output line 29\n",
      "this is output line 30\n",
      "this is output line 31\n",
      "this is output line 32\n",
      "this is output line 33\n",
      "this is output line 34\n",
      "this is output line 35\n",
      "this is output line 36\n",
      "this is output line 37\n",
      "this is output line 38\n",
      "this is output line 39\n"
     ]
    }
   ],
   "source": [
    "    for ii in range(40):\n",
    "        print(f\"this is output line {ii}\")"
   ]
  }
 ],
 "metadata": {
  "jupytext": {
   "text_representation": {
    "extension": ".md",
    "format_name": "myst",
    "format_version": 0.13,
    "jupytext_version": "1.15.2"
   }
  },
  "kernelspec": {
   "display_name": "Python 3 (ipykernel)",
   "language": "python",
   "name": "python3"
  },
  "language_info": {
   "codemirror_mode": {
    "name": "ipython",
    "version": 3
   },
   "file_extension": ".py",
   "mimetype": "text/x-python",
   "name": "python",
   "nbconvert_exporter": "python",
   "pygments_lexer": "ipython3",
   "version": "3.10.13"
  },
  "source_map": [
   12,
   34,
   60,
   81,
   83,
   87,
   120,
   125,
   130
  ]
 },
 "nbformat": 4,
 "nbformat_minor": 5
}