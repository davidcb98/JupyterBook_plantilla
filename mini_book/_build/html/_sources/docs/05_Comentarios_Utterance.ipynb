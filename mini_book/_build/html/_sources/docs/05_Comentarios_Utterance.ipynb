{
 "cells": [
  {
   "cell_type": "markdown",
   "id": "e3c2cb7d",
   "metadata": {},
   "source": [
    "> {sub-ref}`today` | {sub-ref}`wordcount-words` words | {sub-ref}`wordcount-minutes` min read\n",
    "\n",
    "# Comentarios Utterance\n",
    "\n",
    "\n",
    "Para usar los comentarios, hay que instalar la aplicación uteranc en github: \n",
    "\n",
    "- [Enlace de instalación](https://github.com/apps/utterances)\n",
    "- [Enlace a la documentación](https://utteranc.es/#configuration)"
   ]
  }
 ],
 "metadata": {
  "jupytext": {
   "text_representation": {
    "extension": ".md",
    "format_name": "myst",
    "format_version": 0.13,
    "jupytext_version": "1.15.2"
   }
  },
  "kernelspec": {
   "display_name": "Python 3 (ipykernel)",
   "language": "python",
   "name": "python3"
  },
  "source_map": [
   12
  ]
 },
 "nbformat": 4,
 "nbformat_minor": 5
}