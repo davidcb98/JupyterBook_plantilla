{
 "cells": [
  {
   "cell_type": "markdown",
   "id": "804f6a93",
   "metadata": {},
   "source": [
    "> {sub-ref}`today` | {sub-ref}`wordcount-words` words | {sub-ref}`wordcount-minutes` min read\n",
    "\n",
    "# Roles and directives\n",
    "\n",
    "Basicamente son funciones. https://myst-parser.readthedocs.io/en/latest/syntax/roles-and-directives.html#syntax-directives\n",
    "\n",
    "Las **directives** son funciones de varias lineas. Los **roles** son de una línea."
   ]
  }
 ],
 "metadata": {
  "jupytext": {
   "text_representation": {
    "extension": ".md",
    "format_name": "myst",
    "format_version": 0.13,
    "jupytext_version": "1.15.2"
   }
  },
  "kernelspec": {
   "display_name": "Python 3 (ipykernel)",
   "language": "python",
   "name": "python3"
  },
  "source_map": [
   12
  ]
 },
 "nbformat": 4,
 "nbformat_minor": 5
}