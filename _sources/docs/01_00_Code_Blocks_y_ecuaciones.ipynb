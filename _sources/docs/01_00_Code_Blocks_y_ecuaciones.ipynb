{
 "cells": [
  {
   "cell_type": "markdown",
   "id": "49e43f08",
   "metadata": {},
   "source": [
    "> {sub-ref}`today` | {sub-ref}`wordcount-words` words | {sub-ref}`wordcount-minutes` min read\n",
    "\n",
    "(sec_Code_Blocks_y_Ecuaciones)=\n",
    "# Code Blocks y ecuaciones\n",
    "\n",
    "Veamos como escrirbir bloques de código así como ecuaciones en JupyterBook usando MyST.\n",
    "\n",
    "```{tableofcontents}\n",
    "```"
   ]
  }
 ],
 "metadata": {
  "jupytext": {
   "text_representation": {
    "extension": ".md",
    "format_name": "myst",
    "format_version": 0.13,
    "jupytext_version": "1.15.2"
   }
  },
  "kernelspec": {
   "display_name": "Python 3 (ipykernel)",
   "language": "python",
   "name": "python3"
  },
  "source_map": [
   12
  ]
 },
 "nbformat": 4,
 "nbformat_minor": 5
}