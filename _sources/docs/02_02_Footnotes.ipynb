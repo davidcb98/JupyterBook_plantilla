{
 "cells": [
  {
   "cell_type": "markdown",
   "id": "5436a7b9",
   "metadata": {},
   "source": [
    "> {sub-ref}`today` | {sub-ref}`wordcount-words` words | {sub-ref}`wordcount-minutes` min read\n",
    "\n",
    "# Footnotes\n",
    "\n",
    "This is a manually-numbered footnote reference.[^3]\n",
    "    \n",
    "[^3]: This is a manually-numbered footnote definition.\n",
    "\n",
    "This is an auto-numbered footnote reference.[^myref]\n",
    "    \n",
    "[^myref]: This is an auto-numbered footnote definition.\n",
    "\n",
    "\n",
    "A longer footnote definition.[^mylongdef]\n",
    "\n",
    "[^mylongdef]: This is the _**footnote definition**_.\n",
    "    That continues for all indented lines\n",
    "\n",
    "    - even other block elements\n",
    "\n",
    "    Plus any preceding unindented lines, that are not separated by a blank line\n",
    "\n",
    "Como podemos ver en la nota a pie de página [^mylongdef]"
   ]
  }
 ],
 "metadata": {
  "jupytext": {
   "text_representation": {
    "extension": ".md",
    "format_name": "myst",
    "format_version": 0.13,
    "jupytext_version": "1.15.2"
   }
  },
  "kernelspec": {
   "display_name": "Python 3 (ipykernel)",
   "language": "python",
   "name": "python3"
  },
  "source_map": [
   12
  ]
 },
 "nbformat": 4,
 "nbformat_minor": 5
}