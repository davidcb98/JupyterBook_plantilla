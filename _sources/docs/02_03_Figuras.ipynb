{
 "cells": [
  {
   "cell_type": "markdown",
   "id": "e3a4dd0e",
   "metadata": {},
   "source": [
    "> {sub-ref}`today` | {sub-ref}`wordcount-words` words | {sub-ref}`wordcount-minutes` min read\n",
    "\n",
    "# Figuras\n",
    "\n",
    "> Align options: “top”, “middle”, “bottom”, “left”, “center”, or “right”\n",
    "\n",
    "```{figure} ../_Figuras/Descomp_ortogonal.png\n",
    "    :scale: 50 %\n",
    "    :alt: map to buried treasure\n",
    "    :name: fig-target\n",
    "    :align: center\n",
    "\n",
    "This is the caption of the figure (a simple paragraph).\n",
    "```\n",
    "\n",
    "Referencia a la figura: {numref}`Fig. %s <fig-target>`\n",
    "\n",
    "\n",
    "\n",
    "```{figure-md} fig-target-2\n",
    ":class: myclass\n",
    "<img src=\"../_Figuras/Descomp_ortogonal.png\" \n",
    "    alt=\"decipcion de la imagen\" \n",
    "    class=\"bg-primary mb-1\" \n",
    "    width=\"200px\"\n",
    "    align=\"center\">\n",
    "\n",
    "This is a caption in **Markdown**\n",
    "```\n",
    "\n",
    "\n",
    "Referencia a la figura: {numref}`Fig. %s <fig-target-2>` \n",
    "\n",
    "\n",
    "\n",
    "![](https://myst-parser.readthedocs.io/en/latest/_static/logo-wide.svg)"
   ]
  }
 ],
 "metadata": {
  "jupytext": {
   "text_representation": {
    "extension": ".md",
    "format_name": "myst",
    "format_version": 0.13,
    "jupytext_version": "1.15.2"
   }
  },
  "kernelspec": {
   "display_name": "Python 3 (ipykernel)",
   "language": "python",
   "name": "python3"
  },
  "source_map": [
   12
  ]
 },
 "nbformat": 4,
 "nbformat_minor": 5
}