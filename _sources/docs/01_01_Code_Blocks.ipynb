{
 "cells": [
  {
   "cell_type": "markdown",
   "id": "14f1adb2",
   "metadata": {},
   "source": [
    "> {sub-ref}`today` | {sub-ref}`wordcount-words` words | {sub-ref}`wordcount-minutes` min read\n",
    "\n",
    "```{thebe-button}\n",
    "```\n",
    "\n",
    "(sec_Code_Blocks)=\n",
    "# Code cells y code Blocks\n",
    "\n",
    "\n",
    "\n",
    "```{contents}\n",
    ":local:\n",
    ":depth: 1\n",
    "```\n",
    "\n",
    "En realidad no es necesario poner este indice local. Ya hay el indice de la izquierda y este te pone en azul los titulos de las secciones.\n",
    "\n",
    "## Code blocks and outputs\n",
    "\n",
    "Los code block son un tipo de (directives)[./Roles_and_directives.md].\n",
    "\n",
    "Jupyter Book will also embed your code blocks and output in your book.\n",
    "For example, here's some sample Matplotlib code:"
   ]
  },
  {
   "cell_type": "code",
   "execution_count": null,
   "id": "946fcc27",
   "metadata": {},
   "outputs": [],
   "source": [
    "from matplotlib import rcParams, cycler\n",
    "import matplotlib.pyplot as plt\n",
    "import numpy as np\n",
    "plt.ion()"
   ]
  },
  {
   "cell_type": "code",
   "execution_count": null,
   "id": "e1bb8115",
   "metadata": {},
   "outputs": [],
   "source": [
    "# Fixing random state for reproducibility\n",
    "np.random.seed(19680801)\n",
    "\n",
    "N = 10\n",
    "data = [np.logspace(0, 1, 100) + np.random.randn(100) + ii for ii in range(N)]\n",
    "data = np.array(data).T\n",
    "cmap = plt.cm.coolwarm\n",
    "rcParams['axes.prop_cycle'] = cycler(color=cmap(np.linspace(0, 1, N)))\n",
    "\n",
    "\n",
    "from matplotlib.lines import Line2D\n",
    "custom_lines = [Line2D([0], [0], color=cmap(0.), lw=4),\n",
    "                Line2D([0], [0], color=cmap(.5), lw=4),\n",
    "                Line2D([0], [0], color=cmap(1.), lw=4)]\n",
    "\n",
    "fig, ax = plt.subplots(figsize=(10, 5))\n",
    "lines = ax.plot(data)\n",
    "ax.legend(custom_lines, ['Cold', 'Medium', 'Hot'])"
   ]
  },
  {
   "cell_type": "markdown",
   "id": "46432a88",
   "metadata": {},
   "source": [
    "### Celdas no ejecutables pero numeradas y con formato\n",
    "\n",
    "```{code-block} python\n",
    "    :lineno-start: 10  # this is a comment\n",
    "    : # this is also a comment\n",
    "    :emphasize-lines: \"1, 3\"\n",
    "    :caption: |\n",
    "    :    This is my\n",
    "    :    multi-line caption. It is *pretty nifty* ;-)\n",
    "    :name: label_codeblock\n",
    "\n",
    "a = 2\n",
    "print('my 1st line')\n",
    "print(f'my {a}nd line')\n",
    "```\n",
    "\n",
    "### Celdas con salida de error\n",
    "\n",
    "Prueba de celda que da error"
   ]
  },
  {
   "cell_type": "code",
   "execution_count": null,
   "id": "7bb45ce1",
   "metadata": {},
   "outputs": [],
   "source": [
    "print(val_a)"
   ]
  },
  {
   "cell_type": "markdown",
   "id": "81f25f54",
   "metadata": {},
   "source": [
    "### Celdas con scroll\n",
    "\n",
    "Veamos una celca con scroll en la salida"
   ]
  },
  {
   "cell_type": "code",
   "execution_count": null,
   "id": "04dbff51",
   "metadata": {
    "tags": [
     "output_scroll"
    ]
   },
   "outputs": [],
   "source": [
    "for ii in range(40):\n",
    "    print(f\"this is output line {ii}\")"
   ]
  },
  {
   "cell_type": "markdown",
   "id": "9025b88c",
   "metadata": {},
   "source": [
    "### Colores en los print\n",
    "\n",
    "Veamos ahora los colores que podemos poner en los print de python:"
   ]
  },
  {
   "cell_type": "code",
   "execution_count": null,
   "id": "e62115f0",
   "metadata": {},
   "outputs": [],
   "source": [
    "text = \" XYZ \"\n",
    "formatstring = \"\\x1b[{}m\" + text + \"\\x1b[m\"\n",
    "\n",
    "print(\n",
    "    \" \" * 6\n",
    "    + \" \" * len(text)\n",
    "    + \"\".join(\"{:^{}}\".format(bg, len(text)) for bg in range(40, 48))\n",
    ")\n",
    "for fg in range(30, 38):\n",
    "    for bold in False, True:\n",
    "        fg_code = (\"1;\" if bold else \"\") + str(fg)\n",
    "        print(\n",
    "            \" {:>4} \".format(fg_code)\n",
    "            + formatstring.format(fg_code)\n",
    "            + \"\".join(\n",
    "                formatstring.format(fg_code + \";\" + str(bg)) for bg in range(40, 48)\n",
    "            )\n",
    "        )"
   ]
  },
  {
   "cell_type": "markdown",
   "id": "74b9f9c6",
   "metadata": {},
   "source": [
    "## Esconder celdas y salidas\n",
    "\n",
    "Se hace con una tag:\n",
    "```\n",
    ":tag: [\"hide-input\"]\n",
    ":tag: [\"hide-output\"]\n",
    ":tag: [\"hide-cell\"]\n",
    "```"
   ]
  },
  {
   "cell_type": "code",
   "execution_count": null,
   "id": "92514385",
   "metadata": {
    "tags": [
     "hide-input"
    ]
   },
   "outputs": [],
   "source": [
    "import numpy as np\n",
    "import matplotlib.pyplot as plt\n",
    "plt.ion()\n",
    "\n",
    "data = np.random.randn(2, 100)\n",
    "fig, ax = plt.subplots()\n",
    "ax.scatter(*data, c=data[1], s=100*np.abs(data[0]));"
   ]
  },
  {
   "cell_type": "code",
   "execution_count": null,
   "id": "ee9465af",
   "metadata": {
    "tags": [
     "hide-output"
    ]
   },
   "outputs": [],
   "source": [
    "import numpy as np\n",
    "import matplotlib.pyplot as plt\n",
    "plt.ion()\n",
    "\n",
    "data = np.random.randn(2, 100)\n",
    "fig, ax = plt.subplots()\n",
    "ax.scatter(*data, c=data[1], s=100*np.abs(data[0]));"
   ]
  },
  {
   "cell_type": "code",
   "execution_count": null,
   "id": "b0528351",
   "metadata": {
    "tags": [
     "hide-cell"
    ]
   },
   "outputs": [],
   "source": [
    "import numpy as np\n",
    "import matplotlib.pyplot as plt\n",
    "plt.ion()\n",
    "\n",
    "data = np.random.randn(2, 100)\n",
    "fig, ax = plt.subplots()\n",
    "ax.scatter(*data, c=data[1], s=100*np.abs(data[0]));"
   ]
  },
  {
   "cell_type": "markdown",
   "id": "ef6290e5",
   "metadata": {},
   "source": [
    "## Eliminar cerdas o salidas\n",
    "\n",
    "Se hace con una tag:\n",
    "```\n",
    ":tag: [\"remove-input\"]\n",
    ":tag: [\"remove-output\"]\n",
    ":tag: [\"remove-cell\"]\n",
    "```"
   ]
  },
  {
   "cell_type": "code",
   "execution_count": null,
   "id": "95e47200",
   "metadata": {
    "tags": [
     "remove-input"
    ]
   },
   "outputs": [],
   "source": [
    "import numpy as np\n",
    "import matplotlib.pyplot as plt\n",
    "plt.ion()\n",
    "\n",
    "data = np.random.randn(2, 100)\n",
    "fig, ax = plt.subplots()\n",
    "ax.scatter(*data, c=data[1], s=100*np.abs(data[0]));"
   ]
  },
  {
   "cell_type": "code",
   "execution_count": null,
   "id": "b94885e2",
   "metadata": {
    "tags": [
     "remove-output"
    ]
   },
   "outputs": [],
   "source": [
    "import numpy as np\n",
    "import matplotlib.pyplot as plt\n",
    "plt.ion()\n",
    "\n",
    "data = np.random.randn(2, 100)\n",
    "fig, ax = plt.subplots()\n",
    "ax.scatter(*data, c=data[1], s=100*np.abs(data[0]));"
   ]
  },
  {
   "cell_type": "code",
   "execution_count": null,
   "id": "f6413d48",
   "metadata": {
    "tags": [
     "remove-cell"
    ]
   },
   "outputs": [],
   "source": [
    "import numpy as np\n",
    "import matplotlib.pyplot as plt\n",
    "plt.ion()\n",
    "\n",
    "data = np.random.randn(2, 100)\n",
    "fig, ax = plt.subplots()\n",
    "ax.scatter(*data, c=data[1], s=100*np.abs(data[0]));"
   ]
  },
  {
   "cell_type": "markdown",
   "id": "a1e8bcce",
   "metadata": {},
   "source": [
    "## glue para insertar variables en el texto\n",
    "\n",
    "\n",
    "### \"Gluing\" variables en el notebook\n",
    "\n",
    "Tenemos que importar la función `glue()` de la libreria `myst_nb`:"
   ]
  },
  {
   "cell_type": "code",
   "execution_count": null,
   "id": "07d85bd5",
   "metadata": {},
   "outputs": [],
   "source": [
    "from myst_nb import glue"
   ]
  },
  {
   "cell_type": "markdown",
   "id": "1bbcf201",
   "metadata": {},
   "source": [
    "Veamos un ejemplo de como usarlo:"
   ]
  },
  {
   "cell_type": "code",
   "execution_count": null,
   "id": "204d8ce2",
   "metadata": {},
   "outputs": [],
   "source": [
    "my_variable = \"here is some text!\"\n",
    "glue(\"cool_text\", my_variable,  display=False)"
   ]
  },
  {
   "cell_type": "markdown",
   "id": "af32f0c1",
   "metadata": {},
   "source": [
    "Para llamarla usamos ``` {glue:}`cool_text` ```: {glue:}`cool_text`\n",
    "\n",
    "\n",
    "### \"Gluing\" numeros, plots. math y tablas"
   ]
  },
  {
   "cell_type": "code",
   "execution_count": null,
   "id": "146757c9",
   "metadata": {},
   "outputs": [],
   "source": [
    "# Simulate some data and bootstrap the mean of the data\n",
    "import numpy as np\n",
    "import pandas as pd\n",
    "import matplotlib.pyplot as plt\n",
    "\n",
    "n_points = 10000\n",
    "n_boots = 1000\n",
    "mean, sd = (3, .2)\n",
    "data = sd*np.random.randn(n_points) + mean\n",
    "bootstrap_indices = np.random.randint(0, n_points, n_points*n_boots).reshape((n_boots, n_points))\n",
    "\n",
    "# Calculate the mean of a bunch of random samples\n",
    "means = data[bootstrap_indices].mean(0)\n",
    "# Calculate the 95% confidence interval for the mean\n",
    "clo, chi = np.percentile(means, [2.5, 97.5])\n",
    "\n",
    "# Visualize the histogram with the intervals\n",
    "fig, ax = plt.subplots()\n",
    "ax.hist(means)\n",
    "for ln in [clo, chi]:\n",
    "    ax.axvline(ln, ls='--', c='r')\n",
    "ax.set_title(\"Bootstrap distribution and 95% CI\")\n",
    "\n",
    "# And a wider figure to show a timeseries\n",
    "fig2, ax = plt.subplots(figsize=(6, 2))\n",
    "ax.plot(np.sort(means), lw=3, c='r')\n",
    "ax.set_axis_off()\n",
    "\n",
    "\n",
    "# Store the values in our notebook\n",
    "\n",
    "glue(\"boot_mean\", means.mean(), display=False) # numero\n",
    "glue(\"boot_clo\", clo, display=False)           # numero\n",
    "glue(\"boot_chi\", chi, display=False)           # numero\n",
    "\n",
    "glue(\"boot_fig\", fig, display=False)           # Plot\n",
    "glue(\"sorted_means_fig\", fig2, display=False)  # Plot\n",
    "\n",
    "# Dataframes\n",
    "\n",
    "bootstrap_subsets = data[bootstrap_indices][:3, :5].T\n",
    "df = pd.DataFrame(bootstrap_subsets, columns=[\"first\", \"second\", \"third\"])\n",
    "display(df)\n",
    "\n",
    "glue(\"df_tbl\", df, display=False)"
   ]
  },
  {
   "cell_type": "markdown",
   "id": "82e7b1af",
   "metadata": {},
   "source": [
    "### \"Pasting\" las variables\n",
    "\n",
    "#### glue:any (sin formato)\n",
    "\n",
    "Por defecto, al usar `{glue:}` estamos usando `{glue:any}`, que pega la salida \n",
    "\"encolada\" en línea o como bloque, respectivamente, sin formato adicional.\n",
    "\n",
    "Veamos un ejemplo:\n",
    "```text\n",
    "In-line text; {glue:}`boot_mean`, and a figure: {glue:}`boot_fig`.\n",
    "```\n",
    "\n",
    "In-line text; {glue:}`boot_mean`, and a figure: {glue:}`boot_fig`.\n",
    "\n",
    "\n",
    "#### glue:text\n",
    "\n",
    "El `glue:text` es específico àra textos planos. Veamos un ejemplo:\n",
    "\n",
    "> ```text\n",
    "> The mean of the bootstrapped distribution was {glue:text}`boot_mean` (95% confidence interval {glue:text}`boot_clo`/{glue:text}`boot_chi`).\n",
    "> ```\n",
    "> The mean of the bootstrapped distribution was {glue:text}`boot_mean` (95% confidence interval {glue:text}`boot_clo`/{glue:text}`boot_chi`).\n",
    "\n",
    "\n",
    "Podemos darle formato al output, como redondear números. La sintaxis es\n",
    "\n",
    "- ``` {glue:text}`mykey:formatstring` ```\n",
    "\n",
    "Por ejemplo:\n",
    "\n",
    "> ```text\n",
    "> Media: {glue:text}`boot_mean``\n",
    "> \n",
    "> Media redondeada: {glue:text}`boot_mean:.2f`\n",
    "> ```\n",
    "> \n",
    "> Media: {glue:text}`boot_mean`\n",
    "> \n",
    "> Media redondeada: {glue:text}`boot_mean:.2f`\n",
    "\n",
    "#### glue:figure\n",
    "\n",
    "Sirve para figuras y tablas (dataframes).\n",
    "\n",
    "Figura:\n",
    "> ````text\n",
    "> ```{glue:figure} boot_fig\n",
    "> :figwidth: 300px\n",
    "> :name: \"fig-boot\"\n",
    "> \n",
    "> This is a **caption**, with an embedded `{glue:text}` element: {glue:text}`boot_mean:.2f`!\n",
    "> ```\n",
    "> ````\n",
    "> \n",
    "> ```{glue:figure} boot_fig\n",
    "> :figwidth: 300px\n",
    "> :name: \"fig-boot\"\n",
    "> \n",
    "> This is a **caption**, with an embedded `{glue:text}` element: {glue:text}`boot_mean:.2f`!\n",
    "> ```\n",
    "> ```text\n",
    "> Here is a {ref}`reference to the figure <fig-boot>`\n",
    "> ```\n",
    "> Here is a {ref}`reference to the figure <fig-boot>`\n",
    "\n",
    "Dataframe: \n",
    "> ````text\n",
    "> ```{glue:figure} df_tbl\n",
    "> :figwidth: 300px\n",
    "> :name: \"tbl:df\"\n",
    "> \n",
    "> A caption for a pandas table.\n",
    "> ```\n",
    "> ````\n",
    "> \n",
    "> ```{glue:figure} df_tbl\n",
    "> :figwidth: 300px\n",
    "> :name: \"tbl:df\"\n",
    "> \n",
    "> A caption for a pandas table.\n",
    "> ```\n",
    "\n",
    "#### glue:math"
   ]
  },
  {
   "cell_type": "code",
   "execution_count": null,
   "id": "2d4a6ea3",
   "metadata": {},
   "outputs": [],
   "source": [
    "import sympy as sym\n",
    "f = sym.Function('f')\n",
    "y = sym.Function('y')\n",
    "n = sym.symbols(r'\\alpha')\n",
    "f = y(n)-2*y(n-1/sym.pi)-5*y(n-2)\n",
    "glue(\"sym_eq\", sym.rsolve(f,y(n),[1,4]) ,display=False)"
   ]
  },
  {
   "cell_type": "markdown",
   "id": "e066f9f8",
   "metadata": {},
   "source": [
    ">````text\n",
    ">```{glue:math} sym_eq\n",
    ">:label: eq-sym\n",
    ">``\n",
    ">```` \n",
    ">\n",
    ">```{glue:math} sym_eq\n",
    ">:label: eq-sym\n",
    ">```\n",
    "\n",
    "\n",
    "### \"Pasting\" en tablas\n",
    "\n",
    ">````text\n",
    ">| name                            |       plot                    | mean                      | ci                                                |\n",
    ">|:-------------------------------:|:-----------------------------:|---------------------------|---------------------------------------------------|\n",
    ">| histogram and raw text          | {glue:}`boot_fig`             | {glue:}`boot_mean`          | {glue:}`boot_clo`-{glue:}`boot_chi`                   |\n",
    ">| sorted means and formatted text | {glue:}`sorted_means_fig`     | {glue:text}`boot_mean:.3f` | {glue:text}`boot_clo:.3f`-{glue:text}`boot_chi:.3f` |\n",
    ">````\n",
    ">\n",
    ">| name                            |       plot                    | mean                      | ci                                                |\n",
    ">|:-------------------------------:|:-----------------------------:|---------------------------|---------------------------------------------------|\n",
    ">| histogram and raw text          | {glue:}`boot_fig`             | {glue:}`boot_mean`          | {glue:}`boot_clo`-{glue:}`boot_chi`                   |\n",
    ">| sorted means and formatted text | {glue:}`sorted_means_fig`     | {glue:text}`boot_mean:.3f` | {glue:text}`boot_clo:.3f`-{glue:text}`boot_chi:.3f` |\n",
    "\n",
    "\n",
    "\n",
    "\n",
    "## Estadisticas de las ejecuciones\n",
    "\n",
    "```{nb-exec-table}\n",
    "```"
   ]
  }
 ],
 "metadata": {
  "jupytext": {
   "text_representation": {
    "extension": ".md",
    "format_name": "myst",
    "format_version": 0.13,
    "jupytext_version": "1.15.2"
   }
  },
  "kernelspec": {
   "display_name": "Python 3 (ipykernel)",
   "language": "python",
   "name": "python3"
  },
  "source_map": [
   12,
   38,
   45,
   64,
   86,
   88,
   94,
   99,
   105,
   124,
   135,
   147,
   159,
   169,
   181,
   193,
   205,
   215,
   224,
   226,
   229,
   232,
   239,
   285,
   372,
   379
  ]
 },
 "nbformat": 4,
 "nbformat_minor": 5
}