{
 "cells": [
  {
   "cell_type": "markdown",
   "id": "a87a267f",
   "metadata": {},
   "source": [
    "> {sub-ref}`today` | {sub-ref}`wordcount-words` words | {sub-ref}`wordcount-minutes` min read\n",
    "\n",
    "# Más cosas\n",
    "\n",
    "> this is a quote\n",
    "\n",
    "Linea horizontal:\n",
    "\n",
    "---\n",
    "\n",
    "\n",
    "````{margin}\n",
    "Escribimos en el margen !!!!\n",
    "```{note}\n",
    "Incluso escribimos notas!!!\n",
    "```\n",
    "````\n",
    "\n",
    "\n",
    "\n",
    "Veamos una hlist:\n",
    "\n",
    "```{hlist}\n",
    "    :columns: 3\n",
    "\n",
    "* Elemento 1\n",
    "* Elemento 2\n",
    "* Elemento 3\n",
    "* Elemento 4\n",
    "* Elemento 5\n",
    "* Elemento 6\n",
    "* Elemento 7\n",
    "```\n",
    "\n",
    "\n",
    "Veamos un rubric:\n",
    "```{rubric} This is a rubric (título chulo básicamente)\n",
    "```\n",
    "\n",
    "Veamos un centered:\n",
    "```{centered} Esto es un centered (negrita y centrado)\n",
    "```\n",
    "\n",
    "Autor (no se como funciona):\n",
    "\n",
    "```{sectionauthor} David Castaño Bandín <david.castano@uma.es>\n",
    "```"
   ]
  }
 ],
 "metadata": {
  "jupytext": {
   "text_representation": {
    "extension": ".md",
    "format_name": "myst",
    "format_version": 0.13,
    "jupytext_version": "1.15.2"
   }
  },
  "kernelspec": {
   "display_name": "Python 3 (ipykernel)",
   "language": "python",
   "name": "python3"
  },
  "source_map": [
   12
  ]
 },
 "nbformat": 4,
 "nbformat_minor": 5
}